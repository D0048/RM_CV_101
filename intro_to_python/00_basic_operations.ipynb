{
 "cells": [
  {
   "cell_type": "markdown",
   "metadata": {},
   "source": [
    "## Introduction\n",
    "\n",
    "Welcome to RMCV 101! In this submodule, we will talk about basic Python concepts, tools, and methodology so that you can start working right away.\n",
    "\n",
    "We will be using **Python 3** and Jupyter Notebook throughout the entire submodule.\n",
    "\n",
    "### Prerequisites\n",
    "\n",
    "- Have installed Python 3 and Jupyter Notebook. If you haven't, visit INSTALL.md\n",
    "- Some programming background\n",
    "\n",
    "Ready? Let's get started! Before we start, you need to switch to the Jupyter Notebook on your local machine rather than viewing it on the GitHub. Otherwise you will not be able to write code."
   ]
  },
  {
   "cell_type": "markdown",
   "metadata": {},
   "source": [
    "### ... but how do I use Jupyter Notebook?\n",
    "\n",
    "In the last \"verification\" step back in the INSTALL.md, you ran\n",
    "\n",
    "```\n",
    "jupyter notebook\n",
    "```\n",
    "\n",
    "in some folder and there is a browser window popping up? That's how you are going to use the jupyter notebook. Pull up a new terminal session. Navigate to wherever this file is located in the terminal with command lines. Then run the magical 'jupyter notebook' command. After doing so you should see a browser window that looks like this\n",
    "\n",
    "<img src=\"./imgs/00_jupyter_navigation.jpg\" alt=\"drawing\" width=\"200\"/>\n",
    "\n",
    "Feel free to click any NoI (Notebook of Interest :D). Here we will choose `00_basic_operations.ipynb`. Now you should be seeing the content in the notebook on your browser.\n",
    "\n",
    "Unlike IDE/Editor, things in Jupyter Notebook are typically organized in **cells**. There are different types of cells. For most of the time, we play with **code** cells. Another frequently used type of cells is the **Markdown** cell. Let's talk about code cells first.\n",
    "\n",
    "Click on any code cell to highlight that particular cell. If you've followed the instruction and are running the Jupyter Notebook on your own machine, you should be able to edit the highlighted cell.\n",
    "\n",
    "To run the code segment in any highlighted cell, hit the \"Run\" button in the toolbar (or press `shift+return` on your keyboard). What's changed after hitting \"Run\"?\n",
    "\n",
    "Note that output from your code will be printed **below** the corresponding code cell.\n",
    "\n",
    "Now let's talk about Python."
   ]
  },
  {
   "cell_type": "markdown",
   "metadata": {},
   "source": [
    "### print statement\n",
    "\n",
    "Python has a print statement that works like C and many many other languages."
   ]
  },
  {
   "cell_type": "code",
   "execution_count": 1,
   "metadata": {},
   "outputs": [
    {
     "name": "stdout",
     "output_type": "stream",
     "text": [
      "Hello World!\n"
     ]
    }
   ],
   "source": [
    "print(\"Hello World!\")"
   ]
  },
  {
   "cell_type": "markdown",
   "metadata": {},
   "source": [
    "### Exercise\n",
    "\n",
    "Write a line of code that prints out \"Illini RM is awesome!\""
   ]
  },
  {
   "cell_type": "code",
   "execution_count": 2,
   "metadata": {},
   "outputs": [],
   "source": [
    "# Your code here"
   ]
  },
  {
   "cell_type": "markdown",
   "metadata": {},
   "source": [
    "### Data Types\n",
    "\n",
    "Now let's move on to data types. Unlike many languages, the highly dynamic nature of Python allows Python programmers to avoid the repetitive work of declaring data type (to bo precise, Python follows the philosophy of so-called Duck Typing)."
   ]
  },
  {
   "cell_type": "code",
   "execution_count": 3,
   "metadata": {},
   "outputs": [
    {
     "name": "stdout",
     "output_type": "stream",
     "text": [
      "1\n"
     ]
    }
   ],
   "source": [
    "a = 1     # a is an integer\n",
    "print(a)  # print statement in Python is highly dynamic as well..."
   ]
  },
  {
   "cell_type": "code",
   "execution_count": 4,
   "metadata": {},
   "outputs": [
    {
     "name": "stdout",
     "output_type": "stream",
     "text": [
      "2147483648\n"
     ]
    }
   ],
   "source": [
    "a = 1 << 31 # This almost gets to the upper bound of uint32_t!\n",
    "print(a)"
   ]
  },
  {
   "cell_type": "code",
   "execution_count": 5,
   "metadata": {},
   "outputs": [
    {
     "name": "stdout",
     "output_type": "stream",
     "text": [
      "36109768628918289680181237270032176609660606339767210966742701055988446142119009309210673492233648704399859345589716307754006457437790742301883204648784295036787367024590304587829068214346826643210695217080553232099119066551661246199664630858594053699110560125659505447329235914525667766141695080483044195420836646609268481232160720065016972047104891716446477617201152\n"
     ]
    }
   ],
   "source": [
    "a = 1 << 1221 # Will Python be able to handle this?\n",
    "print(a)"
   ]
  },
  {
   "cell_type": "code",
   "execution_count": 6,
   "metadata": {},
   "outputs": [
    {
     "name": "stdout",
     "output_type": "stream",
     "text": [
      "1.0\n"
     ]
    }
   ],
   "source": [
    "a = 1.0\n",
    "print(a)"
   ]
  },
  {
   "cell_type": "code",
   "execution_count": 7,
   "metadata": {},
   "outputs": [
    {
     "name": "stdout",
     "output_type": "stream",
     "text": [
      "I'm a string!\n"
     ]
    }
   ],
   "source": [
    "a = \"I'm a string!\"\n",
    "print(a)"
   ]
  },
  {
   "cell_type": "code",
   "execution_count": 8,
   "metadata": {},
   "outputs": [
    {
     "name": "stdout",
     "output_type": "stream",
     "text": [
      "[1, 2, 'list can hold different type of data', 1.2]\n",
      "<class 'int'>\n",
      "<class 'str'>\n",
      "<class 'float'>\n"
     ]
    }
   ],
   "source": [
    "# List\n",
    "a = [1, 2, \"list can hold different type of data\", 1.2]\n",
    "print(a)\n",
    "print(type(a[0])) # index starts from 0\n",
    "print(type(a[2]))\n",
    "print(type(a[3]))"
   ]
  },
  {
   "cell_type": "code",
   "execution_count": 9,
   "metadata": {},
   "outputs": [
    {
     "name": "stdout",
     "output_type": "stream",
     "text": [
      "(1, 'hey')\n"
     ]
    }
   ],
   "source": [
    "a = (1, \"hey\") # Tuples\n",
    "print(a)"
   ]
  },
  {
   "cell_type": "code",
   "execution_count": 10,
   "metadata": {},
   "outputs": [
    {
     "name": "stdout",
     "output_type": "stream",
     "text": [
      "[(1, 2), [2, 3, [5]]]\n"
     ]
    }
   ],
   "source": [
    "a = [(1, 2), [2, 3, [5]]] # Nested list/tuple\n",
    "print(a)"
   ]
  },
  {
   "cell_type": "markdown",
   "metadata": {},
   "source": [
    "### String Formatting\n",
    "\n",
    "String formatting in Python is intuitive."
   ]
  },
  {
   "cell_type": "code",
   "execution_count": 11,
   "metadata": {},
   "outputs": [
    {
     "name": "stdout",
     "output_type": "stream",
     "text": [
      "Illini RM is awesome! Illini RM has 10 robots!\n"
     ]
    }
   ],
   "source": [
    "s = \"{0} is {1}! {0} has {2} robots!\"\n",
    "print(s.format(\"Illini RM\", \"awesome\", 10))"
   ]
  },
  {
   "cell_type": "code",
   "execution_count": 12,
   "metadata": {},
   "outputs": [
    {
     "name": "stdout",
     "output_type": "stream",
     "text": [
      "Illini RM is awesome! Illini RM has 5 robots!\n"
     ]
    }
   ],
   "source": [
    "my_tuple = (\"Illini RM\", \"awesome\", 5) # List formatting in Python\n",
    "print(s.format(*my_tuple))"
   ]
  },
  {
   "cell_type": "code",
   "execution_count": 13,
   "metadata": {},
   "outputs": [
    {
     "name": "stdout",
     "output_type": "stream",
     "text": [
      "Illini RM is awesome! Illini RM has 10 robots!\n"
     ]
    }
   ],
   "source": [
    "s = \"{1} is {0}! {1} has {2} robots!\" # the order of indices can be changed as well\n",
    "print(s.format(\"awesome\", \"Illini RM\", 10))"
   ]
  },
  {
   "cell_type": "markdown",
   "metadata": {},
   "source": [
    "### Exercise\n",
    "\n",
    "Make a tuple such that the following code prints out:\n",
    "Bob is smart! Bob has RoboMaster S1 robots!"
   ]
  },
  {
   "cell_type": "code",
   "execution_count": 14,
   "metadata": {},
   "outputs": [
    {
     "ename": "IndexError",
     "evalue": "tuple index out of range",
     "output_type": "error",
     "traceback": [
      "\u001b[0;31m---------------------------------------------------------------------------\u001b[0m",
      "\u001b[0;31mIndexError\u001b[0m                                Traceback (most recent call last)",
      "\u001b[0;32m<ipython-input-14-57f963d5d261>\u001b[0m in \u001b[0;36m<module>\u001b[0;34m\u001b[0m\n\u001b[1;32m      1\u001b[0m \u001b[0mmy_tuple\u001b[0m \u001b[0;34m=\u001b[0m \u001b[0;34m(\u001b[0m\u001b[0;34m)\u001b[0m \u001b[0;31m# Finish this\u001b[0m\u001b[0;34m\u001b[0m\u001b[0;34m\u001b[0m\u001b[0m\n\u001b[0;32m----> 2\u001b[0;31m \u001b[0mprint\u001b[0m\u001b[0;34m(\u001b[0m\u001b[0ms\u001b[0m\u001b[0;34m.\u001b[0m\u001b[0mformat\u001b[0m\u001b[0;34m(\u001b[0m\u001b[0;34m*\u001b[0m\u001b[0mmy_tuple\u001b[0m\u001b[0;34m)\u001b[0m\u001b[0;34m)\u001b[0m\u001b[0;34m\u001b[0m\u001b[0;34m\u001b[0m\u001b[0m\n\u001b[0m",
      "\u001b[0;31mIndexError\u001b[0m: tuple index out of range"
     ]
    }
   ],
   "source": [
    "my_tuple = () # Finish this\n",
    "print(s.format(*my_tuple))"
   ]
  },
  {
   "cell_type": "markdown",
   "metadata": {},
   "source": [
    "### if/for"
   ]
  },
  {
   "cell_type": "code",
   "execution_count": null,
   "metadata": {},
   "outputs": [],
   "source": []
  },
  {
   "cell_type": "markdown",
   "metadata": {},
   "source": [
    "### function"
   ]
  },
  {
   "cell_type": "code",
   "execution_count": null,
   "metadata": {},
   "outputs": [],
   "source": []
  },
  {
   "cell_type": "markdown",
   "metadata": {},
   "source": [
    "### class"
   ]
  },
  {
   "cell_type": "code",
   "execution_count": null,
   "metadata": {},
   "outputs": [],
   "source": []
  }
 ],
 "metadata": {
  "kernelspec": {
   "display_name": "Python 3",
   "language": "python",
   "name": "python3"
  },
  "language_info": {
   "codemirror_mode": {
    "name": "ipython",
    "version": 3
   },
   "file_extension": ".py",
   "mimetype": "text/x-python",
   "name": "python",
   "nbconvert_exporter": "python",
   "pygments_lexer": "ipython3",
   "version": "3.7.4"
  }
 },
 "nbformat": 4,
 "nbformat_minor": 2
}
